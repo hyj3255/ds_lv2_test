{
 "cells": [
  {
   "cell_type": "code",
   "execution_count": null,
   "id": "5c18b7ee-b185-4c25-8785-50db8bba9ef5",
   "metadata": {},
   "outputs": [],
   "source": [
    "문제 풀기: ~ 13:40"
   ]
  },
  {
   "cell_type": "code",
   "execution_count": 1,
   "id": "2be28fc4-7d4f-44ee-83f5-f823777c06e7",
   "metadata": {},
   "outputs": [],
   "source": [
    "import pandas as pd\n",
    "import numpy as np\n",
    "\n",
    "from sklearn.preprocessing import MinMaxScaler\n",
    "from sklearn.cluster import KMeans\n",
    "from sklearn.metrics import silhouette_score"
   ]
  },
  {
   "cell_type": "code",
   "execution_count": 2,
   "id": "bcf34ef8-f53e-4b86-9f54-141eb759c591",
   "metadata": {},
   "outputs": [
    {
     "name": "stdout",
     "output_type": "stream",
     "text": [
      "<class 'pandas.core.frame.DataFrame'>\n",
      "RangeIndex: 550068 entries, 0 to 550067\n",
      "Data columns (total 11 columns):\n",
      " #   Column     Non-Null Count   Dtype  \n",
      "---  ------     --------------   -----  \n",
      " 0   user       550068 non-null  int64  \n",
      " 1   prod       550068 non-null  object \n",
      " 2   gender     550068 non-null  object \n",
      " 3   age_group  550068 non-null  object \n",
      " 4   job        550068 non-null  int64  \n",
      " 5   city       550068 non-null  object \n",
      " 6   marital    550068 non-null  int64  \n",
      " 7   prod_cat1  550068 non-null  int64  \n",
      " 8   prod_cat2  376430 non-null  float64\n",
      " 9   prod_cat3  166821 non-null  float64\n",
      " 10  purchase   550068 non-null  int64  \n",
      "dtypes: float64(2), int64(5), object(4)\n",
      "memory usage: 46.2+ MB\n"
     ]
    }
   ],
   "source": [
    "df = pd.read_csv('./test/sales_pos.csv')\n",
    "df.info()"
   ]
  },
  {
   "cell_type": "markdown",
   "id": "f96a5d9e-9067-46f9-8ed2-19f9764d27cb",
   "metadata": {},
   "source": [
    "# Q1"
   ]
  },
  {
   "cell_type": "code",
   "execution_count": 6,
   "id": "3ad0ca71-4f70-436e-9595-bc1c07c7a004",
   "metadata": {},
   "outputs": [
    {
     "data": {
      "text/plain": [
       "'P00025442'"
      ]
     },
     "execution_count": 6,
     "metadata": {},
     "output_type": "execute_result"
    }
   ],
   "source": [
    "max_prod=df.groupby('prod')['purchase'].sum().idxmax()\n",
    "max_prod"
   ]
  },
  {
   "cell_type": "code",
   "execution_count": 8,
   "id": "b339eac1-17ad-4b31-a278-be0ce922b750",
   "metadata": {},
   "outputs": [
    {
     "data": {
      "text/plain": [
       "0         False\n",
       "1         False\n",
       "2         False\n",
       "3         False\n",
       "4         False\n",
       "          ...  \n",
       "550063    False\n",
       "550064    False\n",
       "550065    False\n",
       "550066    False\n",
       "550067    False\n",
       "Name: prod, Length: 550068, dtype: bool"
      ]
     },
     "execution_count": 8,
     "metadata": {},
     "output_type": "execute_result"
    }
   ],
   "source": [
    "df['prod'] == max_prod"
   ]
  },
  {
   "cell_type": "code",
   "execution_count": 11,
   "id": "2b2f863a-b329-48cc-9b6b-ce1f8acb3201",
   "metadata": {},
   "outputs": [
    {
     "data": {
      "text/plain": [
       "4"
      ]
     },
     "execution_count": 11,
     "metadata": {},
     "output_type": "execute_result"
    }
   ],
   "source": [
    "df[df['prod'] == max_prod]['job'].value_counts().idxmax()"
   ]
  },
  {
   "cell_type": "code",
   "execution_count": 13,
   "id": "531c93bb-6e21-400e-8c35-e00c44493817",
   "metadata": {},
   "outputs": [],
   "source": [
    "# dir(df)"
   ]
  },
  {
   "cell_type": "markdown",
   "id": "bb7f518f-f6f0-4bb4-81e0-331ee0a83ee2",
   "metadata": {},
   "source": [
    "# Q2"
   ]
  },
  {
   "cell_type": "code",
   "execution_count": 15,
   "id": "f564e41b-9e60-4424-bda7-db22c4a93949",
   "metadata": {},
   "outputs": [
    {
     "data": {
      "text/plain": [
       "age_group\n",
       "0-17      15102\n",
       "18-25     99660\n",
       "26-35    219587\n",
       "36-45    110013\n",
       "46-50     45701\n",
       "51-55     38501\n",
       "55+       21504\n",
       "Name: count, dtype: int64"
      ]
     },
     "execution_count": 15,
     "metadata": {},
     "output_type": "execute_result"
    }
   ],
   "source": [
    "df.age_group.value_counts().sort_index()"
   ]
  },
  {
   "cell_type": "code",
   "execution_count": 16,
   "id": "ee944604-a83d-4fe1-95e1-6b82138853a3",
   "metadata": {},
   "outputs": [],
   "source": [
    "q2=df.copy()\n",
    "cat_list=['prod_cat1', 'prod_cat2', 'prod_cat3']\n",
    "\n",
    "q2[cat_list]=q2[cat_list].fillna(0)"
   ]
  },
  {
   "cell_type": "code",
   "execution_count": 17,
   "id": "405b79a1-550d-4120-abc8-5a05df2208d7",
   "metadata": {},
   "outputs": [
    {
     "data": {
      "text/plain": [
       "prod_cat1      int64\n",
       "prod_cat2    float64\n",
       "prod_cat3    float64\n",
       "dtype: object"
      ]
     },
     "execution_count": 17,
     "metadata": {},
     "output_type": "execute_result"
    }
   ],
   "source": [
    "q2[cat_list].dtypes"
   ]
  },
  {
   "cell_type": "code",
   "execution_count": 18,
   "id": "e0aa7eb8-86b8-4457-b5eb-ecddd82fd1e1",
   "metadata": {},
   "outputs": [
    {
     "data": {
      "text/html": [
       "<div>\n",
       "<style scoped>\n",
       "    .dataframe tbody tr th:only-of-type {\n",
       "        vertical-align: middle;\n",
       "    }\n",
       "\n",
       "    .dataframe tbody tr th {\n",
       "        vertical-align: top;\n",
       "    }\n",
       "\n",
       "    .dataframe thead th {\n",
       "        text-align: right;\n",
       "    }\n",
       "</style>\n",
       "<table border=\"1\" class=\"dataframe\">\n",
       "  <thead>\n",
       "    <tr style=\"text-align: right;\">\n",
       "      <th></th>\n",
       "      <th>prod_cat1</th>\n",
       "      <th>prod_cat2</th>\n",
       "      <th>prod_cat3</th>\n",
       "    </tr>\n",
       "  </thead>\n",
       "  <tbody>\n",
       "    <tr>\n",
       "      <th>0</th>\n",
       "      <td>3</td>\n",
       "      <td>0.0</td>\n",
       "      <td>0.0</td>\n",
       "    </tr>\n",
       "    <tr>\n",
       "      <th>1</th>\n",
       "      <td>1</td>\n",
       "      <td>6.0</td>\n",
       "      <td>14.0</td>\n",
       "    </tr>\n",
       "  </tbody>\n",
       "</table>\n",
       "</div>"
      ],
      "text/plain": [
       "   prod_cat1  prod_cat2  prod_cat3\n",
       "0          3        0.0        0.0\n",
       "1          1        6.0       14.0"
      ]
     },
     "execution_count": 18,
     "metadata": {},
     "output_type": "execute_result"
    }
   ],
   "source": [
    "q2[cat_list].head(2)"
   ]
  },
  {
   "cell_type": "code",
   "execution_count": 19,
   "id": "7ea88952-28c6-41ad-98fe-52879c3f7cb5",
   "metadata": {},
   "outputs": [
    {
     "data": {
      "text/plain": [
       "prod_cat1    object\n",
       "prod_cat2    object\n",
       "prod_cat3    object\n",
       "dtype: object"
      ]
     },
     "execution_count": 19,
     "metadata": {},
     "output_type": "execute_result"
    }
   ],
   "source": [
    "q2[cat_list]=q2[cat_list].astype('int').astype('str')\n",
    "q2[cat_list].dtypes"
   ]
  },
  {
   "cell_type": "code",
   "execution_count": 20,
   "id": "ea225742-0aaf-400a-b238-791522f76f62",
   "metadata": {},
   "outputs": [
    {
     "data": {
      "text/html": [
       "<div>\n",
       "<style scoped>\n",
       "    .dataframe tbody tr th:only-of-type {\n",
       "        vertical-align: middle;\n",
       "    }\n",
       "\n",
       "    .dataframe tbody tr th {\n",
       "        vertical-align: top;\n",
       "    }\n",
       "\n",
       "    .dataframe thead th {\n",
       "        text-align: right;\n",
       "    }\n",
       "</style>\n",
       "<table border=\"1\" class=\"dataframe\">\n",
       "  <thead>\n",
       "    <tr style=\"text-align: right;\">\n",
       "      <th></th>\n",
       "      <th>prod_cat1</th>\n",
       "      <th>prod_cat2</th>\n",
       "      <th>prod_cat3</th>\n",
       "    </tr>\n",
       "  </thead>\n",
       "  <tbody>\n",
       "    <tr>\n",
       "      <th>0</th>\n",
       "      <td>3</td>\n",
       "      <td>0</td>\n",
       "      <td>0</td>\n",
       "    </tr>\n",
       "    <tr>\n",
       "      <th>1</th>\n",
       "      <td>1</td>\n",
       "      <td>6</td>\n",
       "      <td>14</td>\n",
       "    </tr>\n",
       "  </tbody>\n",
       "</table>\n",
       "</div>"
      ],
      "text/plain": [
       "  prod_cat1 prod_cat2 prod_cat3\n",
       "0         3         0         0\n",
       "1         1         6        14"
      ]
     },
     "execution_count": 20,
     "metadata": {},
     "output_type": "execute_result"
    }
   ],
   "source": [
    "q2[cat_list].head(2)"
   ]
  },
  {
   "cell_type": "code",
   "execution_count": 21,
   "id": "5ce06d70-baa1-4db7-9be9-9d715e065f16",
   "metadata": {},
   "outputs": [
    {
     "data": {
      "text/html": [
       "<div>\n",
       "<style scoped>\n",
       "    .dataframe tbody tr th:only-of-type {\n",
       "        vertical-align: middle;\n",
       "    }\n",
       "\n",
       "    .dataframe tbody tr th {\n",
       "        vertical-align: top;\n",
       "    }\n",
       "\n",
       "    .dataframe thead th {\n",
       "        text-align: right;\n",
       "    }\n",
       "</style>\n",
       "<table border=\"1\" class=\"dataframe\">\n",
       "  <thead>\n",
       "    <tr style=\"text-align: right;\">\n",
       "      <th></th>\n",
       "      <th>user</th>\n",
       "      <th>prod</th>\n",
       "      <th>gender</th>\n",
       "      <th>age_group</th>\n",
       "      <th>job</th>\n",
       "      <th>city</th>\n",
       "      <th>marital</th>\n",
       "      <th>prod_cat1</th>\n",
       "      <th>prod_cat2</th>\n",
       "      <th>prod_cat3</th>\n",
       "      <th>purchase</th>\n",
       "      <th>prod_cat</th>\n",
       "    </tr>\n",
       "  </thead>\n",
       "  <tbody>\n",
       "    <tr>\n",
       "      <th>0</th>\n",
       "      <td>1</td>\n",
       "      <td>P00069042</td>\n",
       "      <td>F</td>\n",
       "      <td>0-17</td>\n",
       "      <td>10</td>\n",
       "      <td>A</td>\n",
       "      <td>0</td>\n",
       "      <td>3</td>\n",
       "      <td>0</td>\n",
       "      <td>0</td>\n",
       "      <td>8370</td>\n",
       "      <td>3-0-0</td>\n",
       "    </tr>\n",
       "    <tr>\n",
       "      <th>1</th>\n",
       "      <td>1</td>\n",
       "      <td>P00248942</td>\n",
       "      <td>F</td>\n",
       "      <td>0-17</td>\n",
       "      <td>10</td>\n",
       "      <td>A</td>\n",
       "      <td>0</td>\n",
       "      <td>1</td>\n",
       "      <td>6</td>\n",
       "      <td>14</td>\n",
       "      <td>15200</td>\n",
       "      <td>1-6-14</td>\n",
       "    </tr>\n",
       "  </tbody>\n",
       "</table>\n",
       "</div>"
      ],
      "text/plain": [
       "   user       prod gender age_group  job city  marital prod_cat1 prod_cat2  \\\n",
       "0     1  P00069042      F      0-17   10    A        0         3         0   \n",
       "1     1  P00248942      F      0-17   10    A        0         1         6   \n",
       "\n",
       "  prod_cat3  purchase prod_cat  \n",
       "0         0      8370    3-0-0  \n",
       "1        14     15200   1-6-14  "
      ]
     },
     "execution_count": 21,
     "metadata": {},
     "output_type": "execute_result"
    }
   ],
   "source": [
    "q2['prod_cat'] = q2['prod_cat1'] + '-' +  q2['prod_cat2'] + '-' + q2['prod_cat3']\n",
    "q2.head(2)"
   ]
  },
  {
   "cell_type": "code",
   "execution_count": 22,
   "id": "1af7329b-fba7-444d-9085-2ae1e9775fff",
   "metadata": {},
   "outputs": [
    {
     "data": {
      "text/plain": [
       "21"
      ]
     },
     "execution_count": 22,
     "metadata": {},
     "output_type": "execute_result"
    }
   ],
   "source": [
    "q2_drop=q2.drop_duplicates(subset=['user','prod_cat'])\n",
    "len(q2_drop[q2_drop.user == 1])"
   ]
  },
  {
   "cell_type": "code",
   "execution_count": 23,
   "id": "e90a2419-4b23-44ab-a373-89e9d41a9f27",
   "metadata": {},
   "outputs": [
    {
     "data": {
      "text/plain": [
       "(550068, 85639)"
      ]
     },
     "execution_count": 23,
     "metadata": {},
     "output_type": "execute_result"
    }
   ],
   "source": [
    "q2_f=q2_drop[q2_drop['age_group'] == '26-35'].reset_index(drop=True)\n",
    "len(df), len(q2_f)"
   ]
  },
  {
   "cell_type": "code",
   "execution_count": 26,
   "id": "513bb92d-7bb1-4b85-ace8-f3326c149f6a",
   "metadata": {},
   "outputs": [],
   "source": [
    "import warnings\n",
    "\n",
    "warnings.filterwarnings('ignore')"
   ]
  },
  {
   "cell_type": "code",
   "execution_count": 27,
   "id": "959e4b3e-36c9-47d9-9722-5425eb28ed26",
   "metadata": {},
   "outputs": [
    {
     "data": {
      "text/plain": [
       "0.13"
      ]
     },
     "execution_count": 27,
     "metadata": {},
     "output_type": "execute_result"
    }
   ],
   "source": [
    "q2_m1=q2_f[q2_f.marital == 1].groupby('user').apply(len).mean()\n",
    "q2_m0=q2_f[q2_f.marital == 0].groupby('user').apply(len).mean()\n",
    "round(abs(q2_m1 - q2_m0),2)\n"
   ]
  },
  {
   "cell_type": "markdown",
   "id": "61c2ee64-b707-438e-a664-b9a370883fed",
   "metadata": {},
   "source": [
    "# Q3"
   ]
  },
  {
   "cell_type": "code",
   "execution_count": 28,
   "id": "f44d0fd7-dcbe-4141-8e96-6e7fa23728e0",
   "metadata": {},
   "outputs": [
    {
     "data": {
      "text/plain": [
       "550068"
      ]
     },
     "execution_count": 28,
     "metadata": {},
     "output_type": "execute_result"
    }
   ],
   "source": [
    "len(df)"
   ]
  },
  {
   "cell_type": "code",
   "execution_count": 29,
   "id": "6996e193-abb3-49c6-a130-b3dfac1d8360",
   "metadata": {},
   "outputs": [],
   "source": [
    "q3=df.copy()"
   ]
  },
  {
   "cell_type": "code",
   "execution_count": 30,
   "id": "d76c419b-3a6d-468e-a105-12195974b8be",
   "metadata": {},
   "outputs": [],
   "source": [
    "q3['gender']=q3['gender'].replace({'M':1, 'F': 0})"
   ]
  },
  {
   "cell_type": "code",
   "execution_count": 33,
   "id": "1f2ebdd3-c92b-4228-a0c7-ffd5181b9342",
   "metadata": {},
   "outputs": [
    {
     "data": {
      "text/plain": [
       "{'0-17': 0,\n",
       " '18-25': 1,\n",
       " '26-35': 2,\n",
       " '36-45': 3,\n",
       " '46-50': 4,\n",
       " '51-55': 5,\n",
       " '55+': 6}"
      ]
     },
     "execution_count": 33,
     "metadata": {},
     "output_type": "execute_result"
    }
   ],
   "source": [
    "gr_age=dict(pd.Series(range(7), index=df['age_group'].drop_duplicates().sort_values()))\n",
    "gr_age"
   ]
  },
  {
   "cell_type": "code",
   "execution_count": 34,
   "id": "4cf361c8-d3e4-463f-b763-0d13d620594f",
   "metadata": {},
   "outputs": [],
   "source": [
    "q3['age_group'] = q3['age_group'].replace(gr_age)"
   ]
  },
  {
   "cell_type": "code",
   "execution_count": 35,
   "id": "dd07238b-7e51-42e0-b234-e9be22ff2d4b",
   "metadata": {},
   "outputs": [
    {
     "data": {
      "text/plain": [
       "age_group\n",
       "2    219587\n",
       "3    110013\n",
       "1     99660\n",
       "4     45701\n",
       "5     38501\n",
       "6     21504\n",
       "0     15102\n",
       "Name: count, dtype: int64"
      ]
     },
     "execution_count": 35,
     "metadata": {},
     "output_type": "execute_result"
    }
   ],
   "source": [
    "q3['age_group'].value_counts()"
   ]
  },
  {
   "cell_type": "code",
   "execution_count": 36,
   "id": "1d8e3079-6b48-4e35-bd32-4dadc060d9ee",
   "metadata": {},
   "outputs": [],
   "source": [
    "gr_list=['user','gender','age_group', 'job', 'city', 'marital']"
   ]
  },
  {
   "cell_type": "code",
   "execution_count": 38,
   "id": "2bf0b418-3b92-48a4-9eea-63c2ef37aac6",
   "metadata": {},
   "outputs": [],
   "source": [
    "q3_merge=q3.groupby(gr_list)[['prod', 'purchase']].agg({'prod':'nunique', 'purchase': 'sum'}).reset_index(drop=False)"
   ]
  },
  {
   "cell_type": "code",
   "execution_count": 40,
   "id": "4cfd1e9b-7230-4b82-9ebf-2cb858d2c07a",
   "metadata": {},
   "outputs": [
    {
     "data": {
      "text/html": [
       "<div>\n",
       "<style scoped>\n",
       "    .dataframe tbody tr th:only-of-type {\n",
       "        vertical-align: middle;\n",
       "    }\n",
       "\n",
       "    .dataframe tbody tr th {\n",
       "        vertical-align: top;\n",
       "    }\n",
       "\n",
       "    .dataframe thead th {\n",
       "        text-align: right;\n",
       "    }\n",
       "</style>\n",
       "<table border=\"1\" class=\"dataframe\">\n",
       "  <thead>\n",
       "    <tr style=\"text-align: right;\">\n",
       "      <th></th>\n",
       "      <th>user</th>\n",
       "      <th>gender</th>\n",
       "      <th>age_group</th>\n",
       "      <th>job</th>\n",
       "      <th>city</th>\n",
       "      <th>marital</th>\n",
       "      <th>prod</th>\n",
       "      <th>purchase</th>\n",
       "    </tr>\n",
       "  </thead>\n",
       "  <tbody>\n",
       "    <tr>\n",
       "      <th>0</th>\n",
       "      <td>1</td>\n",
       "      <td>0</td>\n",
       "      <td>0</td>\n",
       "      <td>10</td>\n",
       "      <td>A</td>\n",
       "      <td>0</td>\n",
       "      <td>35</td>\n",
       "      <td>334093</td>\n",
       "    </tr>\n",
       "    <tr>\n",
       "      <th>1</th>\n",
       "      <td>2</td>\n",
       "      <td>1</td>\n",
       "      <td>6</td>\n",
       "      <td>16</td>\n",
       "      <td>C</td>\n",
       "      <td>0</td>\n",
       "      <td>77</td>\n",
       "      <td>810472</td>\n",
       "    </tr>\n",
       "  </tbody>\n",
       "</table>\n",
       "</div>"
      ],
      "text/plain": [
       "   user  gender  age_group  job city  marital  prod  purchase\n",
       "0     1       0          0   10    A        0    35    334093\n",
       "1     2       1          6   16    C        0    77    810472"
      ]
     },
     "execution_count": 40,
     "metadata": {},
     "output_type": "execute_result"
    }
   ],
   "source": [
    "q3_merge.head(2)"
   ]
  },
  {
   "cell_type": "code",
   "execution_count": 41,
   "id": "57bb4367-77b4-42c2-a1e0-cb4866db847d",
   "metadata": {},
   "outputs": [
    {
     "data": {
      "text/plain": [
       "5891"
      ]
     },
     "execution_count": 41,
     "metadata": {},
     "output_type": "execute_result"
    }
   ],
   "source": [
    "len(q3_merge)"
   ]
  },
  {
   "cell_type": "code",
   "execution_count": 42,
   "id": "b0eca388-def0-4a6c-9cd1-2ef0dd6c081a",
   "metadata": {},
   "outputs": [],
   "source": [
    "q3_f=pd.get_dummies(q3_merge, columns=['job','city'], drop_first=False)"
   ]
  },
  {
   "cell_type": "code",
   "execution_count": 43,
   "id": "e08d38af-97eb-4f7e-8c6d-ad41087e26f4",
   "metadata": {},
   "outputs": [
    {
     "data": {
      "text/plain": [
       "30"
      ]
     },
     "execution_count": 43,
     "metadata": {},
     "output_type": "execute_result"
    }
   ],
   "source": [
    "len(q3_f.columns)"
   ]
  },
  {
   "cell_type": "code",
   "execution_count": 44,
   "id": "848fd618-2ea6-42eb-bab3-23a01273afa6",
   "metadata": {},
   "outputs": [],
   "source": [
    "q3_f=q3_f.drop(columns='user')"
   ]
  },
  {
   "cell_type": "code",
   "execution_count": 45,
   "id": "324d8ed2-55dd-44ff-9774-9d24f9d140d7",
   "metadata": {},
   "outputs": [],
   "source": [
    "minmax=MinMaxScaler().fit(q3_f)"
   ]
  },
  {
   "cell_type": "code",
   "execution_count": 46,
   "id": "2743da18-cc9b-4582-9ea1-32345f5454d3",
   "metadata": {},
   "outputs": [],
   "source": [
    "q3_m=minmax.transform(q3_f)"
   ]
  },
  {
   "cell_type": "code",
   "execution_count": 47,
   "id": "99316a37-ef77-446d-a06f-9cc27b196431",
   "metadata": {},
   "outputs": [],
   "source": [
    "km=KMeans(n_clusters=7, random_state=123).fit(q3_m)"
   ]
  },
  {
   "cell_type": "code",
   "execution_count": 48,
   "id": "51e5a46d-4290-4db9-96f4-db77117dc909",
   "metadata": {},
   "outputs": [
    {
     "data": {
      "text/plain": [
       "array([5, 2, 5, ..., 4, 3, 1])"
      ]
     },
     "execution_count": 48,
     "metadata": {},
     "output_type": "execute_result"
    }
   ],
   "source": [
    "km.labels_"
   ]
  },
  {
   "cell_type": "code",
   "execution_count": null,
   "id": "e60e7abf-9f2c-4fb9-95f8-e2d263148608",
   "metadata": {},
   "outputs": [],
   "source": [
    "silhouette_score("
   ]
  }
 ],
 "metadata": {
  "kernelspec": {
   "display_name": "Python 3 (ipykernel)",
   "language": "python",
   "name": "python3"
  },
  "language_info": {
   "codemirror_mode": {
    "name": "ipython",
    "version": 3
   },
   "file_extension": ".py",
   "mimetype": "text/x-python",
   "name": "python",
   "nbconvert_exporter": "python",
   "pygments_lexer": "ipython3",
   "version": "3.12.4"
  }
 },
 "nbformat": 4,
 "nbformat_minor": 5
}
