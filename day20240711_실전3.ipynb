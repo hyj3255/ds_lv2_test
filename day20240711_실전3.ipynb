{
 "cells": [
  {
   "cell_type": "code",
   "execution_count": null,
   "id": "51eb5eef-f83c-4711-a40c-8656a27af935",
   "metadata": {},
   "outputs": [],
   "source": [
    "문제 풀기: ~11:00"
   ]
  },
  {
   "cell_type": "code",
   "execution_count": 1,
   "id": "3c6c01ad-8c0d-4287-8e83-54914bbc94b2",
   "metadata": {},
   "outputs": [],
   "source": [
    "import pandas as pd\n",
    "import numpy as np\n",
    "\n",
    "from sklearn.preprocessing import MinMaxScaler\n",
    "from sklearn.model_selection import train_test_split\n",
    "from sklearn.neighbors import KNeighborsRegressor\n",
    "from sklearn.metrics import mean_squared_error"
   ]
  },
  {
   "cell_type": "code",
   "execution_count": 2,
   "id": "a194b079-f9f5-4aea-ac42-f034caf6d1c9",
   "metadata": {},
   "outputs": [
    {
     "name": "stdout",
     "output_type": "stream",
     "text": [
      "<class 'pandas.core.frame.DataFrame'>\n",
      "RangeIndex: 430 entries, 0 to 429\n",
      "Data columns (total 11 columns):\n",
      " #   Column            Non-Null Count  Dtype  \n",
      "---  ------            --------------  -----  \n",
      " 0   screen_size       430 non-null    object \n",
      " 1   ROM               430 non-null    int64  \n",
      " 2   RAM               430 non-null    int64  \n",
      " 3   num_rear_camera   430 non-null    int64  \n",
      " 4   num_front_camera  430 non-null    int64  \n",
      " 5   battery_capacity  430 non-null    int64  \n",
      " 6   ratings           430 non-null    float64\n",
      " 7   num_of_ratings    430 non-null    int64  \n",
      " 8   sales_price       430 non-null    int64  \n",
      " 9   discount_percent  430 non-null    float64\n",
      " 10  sales             430 non-null    float64\n",
      "dtypes: float64(3), int64(7), object(1)\n",
      "memory usage: 37.1+ KB\n"
     ]
    }
   ],
   "source": [
    "df = pd.read_csv('./test/mobiles.csv')\n",
    "df.info()"
   ]
  },
  {
   "cell_type": "code",
   "execution_count": null,
   "id": "368fe968-ec98-412b-b212-4cf77d3e89c2",
   "metadata": {},
   "outputs": [],
   "source": []
  },
  {
   "cell_type": "markdown",
   "id": "88670b6a-ce19-461e-be93-6c250654a615",
   "metadata": {},
   "source": [
    "# Q1"
   ]
  },
  {
   "cell_type": "code",
   "execution_count": 3,
   "id": "adf6e74b-d3fe-4a27-a11c-74554a0d157c",
   "metadata": {},
   "outputs": [
    {
     "data": {
      "text/plain": [
       "(430, 16)"
      ]
     },
     "execution_count": 3,
     "metadata": {},
     "output_type": "execute_result"
    }
   ],
   "source": [
    "xbar=df.sales.mean()\n",
    "std1=df.sales.std()\n",
    "\n",
    "ub=xbar + (2 * std1)\n",
    "\n",
    "q1=df[df.sales > ub].reset_index(drop=True)\n",
    "\n",
    "len(df), len(q1)"
   ]
  },
  {
   "cell_type": "code",
   "execution_count": 4,
   "id": "0614e6d5-73e4-43d9-bc81-467ad3aa7966",
   "metadata": {},
   "outputs": [],
   "source": [
    "q1['카메라개수']=q1['num_rear_camera'] + q1['num_front_camera']\n",
    "q1['성능지표']= (q1['ROM'] / 32) + (q1['RAM'] / 2) + q1['카메라개수'] + (q1['battery_capacity'] / 1000) "
   ]
  },
  {
   "cell_type": "code",
   "execution_count": 5,
   "id": "b7029562-68b1-4970-b274-31ea74d06481",
   "metadata": {},
   "outputs": [
    {
     "data": {
      "text/plain": [
       "11.01"
      ]
     },
     "execution_count": 5,
     "metadata": {},
     "output_type": "execute_result"
    }
   ],
   "source": [
    "round(q1['성능지표'].mean(),2)"
   ]
  },
  {
   "cell_type": "markdown",
   "id": "89c5497d-7675-4fa2-9a5d-1a4154ce7a06",
   "metadata": {},
   "source": [
    "# Q2"
   ]
  },
  {
   "cell_type": "code",
   "execution_count": 6,
   "id": "b8496a92-efc9-4221-ba69-dce835ef8f49",
   "metadata": {},
   "outputs": [],
   "source": [
    "q2=df[df.num_rear_camera > 1].reset_index(drop=True)"
   ]
  },
  {
   "cell_type": "code",
   "execution_count": 7,
   "id": "a18eab9c-0ba9-4c74-93a6-a827e2c087a7",
   "metadata": {},
   "outputs": [],
   "source": [
    "list2=['battery_capacity', 'ratings', 'num_of_ratings', 'sales_price',\n",
    "       'discount_percent', 'sales']"
   ]
  },
  {
   "cell_type": "code",
   "execution_count": 11,
   "id": "3eb655b6-7854-4b3c-9920-3d3550ae603a",
   "metadata": {},
   "outputs": [
    {
     "data": {
      "text/plain": [
       "0.95"
      ]
     },
     "execution_count": 11,
     "metadata": {},
     "output_type": "execute_result"
    }
   ],
   "source": [
    "q2[list2].corr()['sales'].drop('sales').abs().round(2).max()"
   ]
  },
  {
   "cell_type": "markdown",
   "id": "97a39c93-c048-4924-93af-9deae97c3a10",
   "metadata": {},
   "source": [
    "# Q3"
   ]
  },
  {
   "cell_type": "code",
   "execution_count": 12,
   "id": "40b5af56-6fb4-4ac9-b64b-07bd88567e6b",
   "metadata": {},
   "outputs": [
    {
     "data": {
      "text/plain": [
       "11"
      ]
     },
     "execution_count": 12,
     "metadata": {},
     "output_type": "execute_result"
    }
   ],
   "source": [
    "len(df.columns)"
   ]
  },
  {
   "cell_type": "code",
   "execution_count": 13,
   "id": "0640b744-ebf0-40e7-8d59-8bf9a1871845",
   "metadata": {},
   "outputs": [
    {
     "data": {
      "text/plain": [
       "screen_size          object\n",
       "ROM                   int64\n",
       "RAM                   int64\n",
       "num_rear_camera       int64\n",
       "num_front_camera      int64\n",
       "battery_capacity      int64\n",
       "ratings             float64\n",
       "num_of_ratings        int64\n",
       "sales_price           int64\n",
       "discount_percent    float64\n",
       "sales               float64\n",
       "dtype: object"
      ]
     },
     "execution_count": 13,
     "metadata": {},
     "output_type": "execute_result"
    }
   ],
   "source": [
    "df.dtypes"
   ]
  },
  {
   "cell_type": "code",
   "execution_count": 14,
   "id": "da388645-d98b-46d8-9ecc-37654d26fc9b",
   "metadata": {},
   "outputs": [
    {
     "data": {
      "text/plain": [
       "array(['Very Small', 'Small', 'Medium', 'Large', 'Very Large'],\n",
       "      dtype=object)"
      ]
     },
     "execution_count": 14,
     "metadata": {},
     "output_type": "execute_result"
    }
   ],
   "source": [
    "df.screen_size.unique()"
   ]
  },
  {
   "cell_type": "markdown",
   "id": "0fc1f079-97f3-4cf4-80d7-8ae0ffb131c8",
   "metadata": {},
   "source": [
    "- pd.get_dummies(데이터셋, columns=[원핫으로 바꿀 변수명 나열], drop_first=False) # 구버전\n",
    "- pd.get_dummies(데이터셋, columns=[원핫으로 바꿀 변수명 나열], drop_first=False, dtype='int') # 신버전"
   ]
  },
  {
   "cell_type": "code",
   "execution_count": 17,
   "id": "5f135d91-a493-4706-a2ca-a2ef9f12c410",
   "metadata": {},
   "outputs": [],
   "source": [
    "q3=pd.get_dummies(df, columns=['screen_size'], drop_first=False, dtype='int')"
   ]
  },
  {
   "cell_type": "code",
   "execution_count": 18,
   "id": "5389edbf-c1e7-473c-88d5-1f8b78e9b6be",
   "metadata": {},
   "outputs": [
    {
     "data": {
      "text/html": [
       "<div>\n",
       "<style scoped>\n",
       "    .dataframe tbody tr th:only-of-type {\n",
       "        vertical-align: middle;\n",
       "    }\n",
       "\n",
       "    .dataframe tbody tr th {\n",
       "        vertical-align: top;\n",
       "    }\n",
       "\n",
       "    .dataframe thead th {\n",
       "        text-align: right;\n",
       "    }\n",
       "</style>\n",
       "<table border=\"1\" class=\"dataframe\">\n",
       "  <thead>\n",
       "    <tr style=\"text-align: right;\">\n",
       "      <th></th>\n",
       "      <th>ROM</th>\n",
       "      <th>RAM</th>\n",
       "      <th>num_rear_camera</th>\n",
       "      <th>num_front_camera</th>\n",
       "      <th>battery_capacity</th>\n",
       "      <th>ratings</th>\n",
       "      <th>num_of_ratings</th>\n",
       "      <th>sales_price</th>\n",
       "      <th>discount_percent</th>\n",
       "      <th>sales</th>\n",
       "      <th>screen_size_Large</th>\n",
       "      <th>screen_size_Medium</th>\n",
       "      <th>screen_size_Small</th>\n",
       "      <th>screen_size_Very Large</th>\n",
       "      <th>screen_size_Very Small</th>\n",
       "    </tr>\n",
       "  </thead>\n",
       "  <tbody>\n",
       "    <tr>\n",
       "      <th>0</th>\n",
       "      <td>64</td>\n",
       "      <td>2</td>\n",
       "      <td>1</td>\n",
       "      <td>1</td>\n",
       "      <td>1800</td>\n",
       "      <td>4.5</td>\n",
       "      <td>38645</td>\n",
       "      <td>32999</td>\n",
       "      <td>0.17</td>\n",
       "      <td>127.52</td>\n",
       "      <td>0</td>\n",
       "      <td>0</td>\n",
       "      <td>0</td>\n",
       "      <td>0</td>\n",
       "      <td>1</td>\n",
       "    </tr>\n",
       "    <tr>\n",
       "      <th>1</th>\n",
       "      <td>64</td>\n",
       "      <td>4</td>\n",
       "      <td>2</td>\n",
       "      <td>1</td>\n",
       "      <td>2815</td>\n",
       "      <td>4.5</td>\n",
       "      <td>244</td>\n",
       "      <td>57149</td>\n",
       "      <td>0.04</td>\n",
       "      <td>1.39</td>\n",
       "      <td>0</td>\n",
       "      <td>0</td>\n",
       "      <td>1</td>\n",
       "      <td>0</td>\n",
       "      <td>0</td>\n",
       "    </tr>\n",
       "  </tbody>\n",
       "</table>\n",
       "</div>"
      ],
      "text/plain": [
       "   ROM  RAM  num_rear_camera  num_front_camera  battery_capacity  ratings  \\\n",
       "0   64    2                1                 1              1800      4.5   \n",
       "1   64    4                2                 1              2815      4.5   \n",
       "\n",
       "   num_of_ratings  sales_price  discount_percent   sales  screen_size_Large  \\\n",
       "0           38645        32999              0.17  127.52                  0   \n",
       "1             244        57149              0.04    1.39                  0   \n",
       "\n",
       "   screen_size_Medium  screen_size_Small  screen_size_Very Large  \\\n",
       "0                   0                  0                       0   \n",
       "1                   0                  1                       0   \n",
       "\n",
       "   screen_size_Very Small  \n",
       "0                       1  \n",
       "1                       0  "
      ]
     },
     "execution_count": 18,
     "metadata": {},
     "output_type": "execute_result"
    }
   ],
   "source": [
    "q3.head(2)"
   ]
  },
  {
   "cell_type": "code",
   "execution_count": 19,
   "id": "401e2580-fcb1-4f2f-861c-c2d7638398a8",
   "metadata": {},
   "outputs": [
    {
     "data": {
      "text/plain": [
       "15"
      ]
     },
     "execution_count": 19,
     "metadata": {},
     "output_type": "execute_result"
    }
   ],
   "source": [
    "len(q3.columns)"
   ]
  },
  {
   "cell_type": "code",
   "execution_count": 20,
   "id": "7327c67a-cf51-45c5-be90-dbe5f2082a6c",
   "metadata": {},
   "outputs": [],
   "source": [
    "train, test=train_test_split(q3, test_size=0.2, random_state=123)"
   ]
  },
  {
   "cell_type": "code",
   "execution_count": 22,
   "id": "2e2fe43d-b516-43fd-8538-41dd88ea7fee",
   "metadata": {},
   "outputs": [],
   "source": [
    "minmax=MinMaxScaler().fit(train)\n",
    "train_m=pd.DataFrame(minmax.transform(train), columns=q3.columns)\n",
    "test_m=pd.DataFrame(minmax.transform(test), columns=q3.columns)"
   ]
  },
  {
   "cell_type": "code",
   "execution_count": null,
   "id": "542c84a4-2dc5-47d6-a3e2-ad3fe3612098",
   "metadata": {},
   "outputs": [],
   "source": [
    "knn=KNeighborsRegressor(n_neighbors=3)\n",
    "knn.fit(train_m.drop(columns='sales'), train_m['sales'])\n",
    "pred=knn.predict(test_m.drop(columns='sales'))\n",
    "rmse=np.sqrt(mean_squared_error(test_m['sales'], pred))"
   ]
  },
  {
   "cell_type": "code",
   "execution_count": 23,
   "id": "eb29ac46-334d-4ef5-8b76-6aa2e486d010",
   "metadata": {},
   "outputs": [],
   "source": [
    "rmse_col=[]\n",
    "\n",
    "for i in [3,5,7,9,11]:\n",
    "    knn=KNeighborsRegressor(n_neighbors=i)\n",
    "    knn.fit(train_m.drop(columns='sales'), train_m['sales'])\n",
    "    pred=knn.predict(test_m.drop(columns='sales'))\n",
    "    rmse=np.sqrt(mean_squared_error(test_m['sales'], pred))\n",
    "    rmse_col.append([i, rmse])"
   ]
  },
  {
   "cell_type": "code",
   "execution_count": 26,
   "id": "5decd8f8-5aba-4d50-a731-ec3eaab6c619",
   "metadata": {},
   "outputs": [
    {
     "data": {
      "text/html": [
       "<div>\n",
       "<style scoped>\n",
       "    .dataframe tbody tr th:only-of-type {\n",
       "        vertical-align: middle;\n",
       "    }\n",
       "\n",
       "    .dataframe tbody tr th {\n",
       "        vertical-align: top;\n",
       "    }\n",
       "\n",
       "    .dataframe thead th {\n",
       "        text-align: right;\n",
       "    }\n",
       "</style>\n",
       "<table border=\"1\" class=\"dataframe\">\n",
       "  <thead>\n",
       "    <tr style=\"text-align: right;\">\n",
       "      <th></th>\n",
       "      <th>k</th>\n",
       "      <th>rmse</th>\n",
       "    </tr>\n",
       "  </thead>\n",
       "  <tbody>\n",
       "    <tr>\n",
       "      <th>0</th>\n",
       "      <td>3</td>\n",
       "      <td>0.081867</td>\n",
       "    </tr>\n",
       "    <tr>\n",
       "      <th>1</th>\n",
       "      <td>5</td>\n",
       "      <td>0.098791</td>\n",
       "    </tr>\n",
       "    <tr>\n",
       "      <th>2</th>\n",
       "      <td>7</td>\n",
       "      <td>0.107670</td>\n",
       "    </tr>\n",
       "    <tr>\n",
       "      <th>3</th>\n",
       "      <td>9</td>\n",
       "      <td>0.112321</td>\n",
       "    </tr>\n",
       "    <tr>\n",
       "      <th>4</th>\n",
       "      <td>11</td>\n",
       "      <td>0.113690</td>\n",
       "    </tr>\n",
       "  </tbody>\n",
       "</table>\n",
       "</div>"
      ],
      "text/plain": [
       "    k      rmse\n",
       "0   3  0.081867\n",
       "1   5  0.098791\n",
       "2   7  0.107670\n",
       "3   9  0.112321\n",
       "4  11  0.113690"
      ]
     },
     "execution_count": 26,
     "metadata": {},
     "output_type": "execute_result"
    }
   ],
   "source": [
    "rmse_col = pd.DataFrame(rmse_col, columns=['k','rmse'])\n",
    "rmse_col"
   ]
  },
  {
   "cell_type": "code",
   "execution_count": 28,
   "id": "9a735def-1728-40e2-81e7-6ae67b7bbfc7",
   "metadata": {},
   "outputs": [
    {
     "data": {
      "text/plain": [
       "3"
      ]
     },
     "execution_count": 28,
     "metadata": {},
     "output_type": "execute_result"
    }
   ],
   "source": [
    "best_k=rmse_col.loc[rmse_col.rmse.idxmin(),'k']\n",
    "best_k"
   ]
  },
  {
   "cell_type": "code",
   "execution_count": null,
   "id": "e231df59-214e-4c89-9c73-1b3d987c5411",
   "metadata": {},
   "outputs": [],
   "source": [
    "knn_k=KNeighborsRegressor(n_neighbors=3)\n",
    "knn_k.fit(train_m.drop(columns='sales'), train_m['sales'])\n",
    "pred=knn_k.predict(test_m.drop(columns='sales'))\n",
    "rmse=np.sqrt(mean_squared_error(test_m['sales'], pred))"
   ]
  },
  {
   "cell_type": "markdown",
   "id": "e92f3e77-d45b-4eab-90ca-30a85737c8bb",
   "metadata": {},
   "source": [
    "Q3. [추가 지시사항] 다음은 저번달에 신규 출시된 경쟁사의 스마트폰 정보이다. 해당 스마트폰의 판매지수는 얼마로 예상되는가?\r\n",
    "- 단계 1) 주어진 데이터는 기존 원핫인코딩 규칙을 기반으로 더미변수를 생성하시오.\r\n",
    "- 단계 2) 기존 정규화 규칙을 기반으로 주어진 데이터를 정규화 하시오.\r\n",
    "- 단계 3) 기존에 정제한 학습 데이터 세트와 이웃 개수는 직전에 최적이라고 판단한 k값을 사용한 k-NN 모델을 준비하시오.\r\n",
    "- 단계 4) 준비된 k-NN 모델에 \"단계 2\"에서 산출한 데이터 세트를 입력하고 그 결과를 확인하시오.\r\n",
    "- 단계 5) \"단계 4\"의 결과물을 기존 정규화 규칙을 기반으로 역변환 하시오."
   ]
  },
  {
   "cell_type": "markdown",
   "id": "59c1a01a-08ae-483b-bb2f-cf389cfa1707",
   "metadata": {},
   "source": [
    "   - 기존에 정제한 학습 데이터 세트와 이웃 개수는 직전에 최적이라고 판단한 k값을 사용하여 학습한 k-NN 모델을 사용하시오.\r\n",
    "    - k-NN 모델로 산출되는 값은 기존에 생성한 정규화 규칙을 기반으로 역변환 하시오.\r\n",
    "    - 정답은 반올림하여 소수 첫째 자리까지 출력하시오. (정답 예시: 0.1)"
   ]
  },
  {
   "cell_type": "markdown",
   "id": "77e73ed2-baa9-4d63-b3ee-7d489e4e6bab",
   "metadata": {},
   "source": [
    "- ROM: 256\r\n",
    "- RAM: 6\r\n",
    "- num_rear_camera: 4\r\n",
    "- num_front_camera: 1\r\n",
    "- battery_capacity: 4000\r\n",
    "- ratings: 4.3\r\n",
    "- num_of_ratings: 25000\r\n",
    "- sales_price: 85000\r\n",
    "- discount_percent: 0.05\r\n",
    "- screen_size: \"Large\""
   ]
  },
  {
   "cell_type": "code",
   "execution_count": 34,
   "id": "2ac25226-8b17-4bdb-9b75-29c504021a1e",
   "metadata": {},
   "outputs": [
    {
     "data": {
      "text/html": [
       "<style>#sk-container-id-1 {\n",
       "  /* Definition of color scheme common for light and dark mode */\n",
       "  --sklearn-color-text: black;\n",
       "  --sklearn-color-line: gray;\n",
       "  /* Definition of color scheme for unfitted estimators */\n",
       "  --sklearn-color-unfitted-level-0: #fff5e6;\n",
       "  --sklearn-color-unfitted-level-1: #f6e4d2;\n",
       "  --sklearn-color-unfitted-level-2: #ffe0b3;\n",
       "  --sklearn-color-unfitted-level-3: chocolate;\n",
       "  /* Definition of color scheme for fitted estimators */\n",
       "  --sklearn-color-fitted-level-0: #f0f8ff;\n",
       "  --sklearn-color-fitted-level-1: #d4ebff;\n",
       "  --sklearn-color-fitted-level-2: #b3dbfd;\n",
       "  --sklearn-color-fitted-level-3: cornflowerblue;\n",
       "\n",
       "  /* Specific color for light theme */\n",
       "  --sklearn-color-text-on-default-background: var(--sg-text-color, var(--theme-code-foreground, var(--jp-content-font-color1, black)));\n",
       "  --sklearn-color-background: var(--sg-background-color, var(--theme-background, var(--jp-layout-color0, white)));\n",
       "  --sklearn-color-border-box: var(--sg-text-color, var(--theme-code-foreground, var(--jp-content-font-color1, black)));\n",
       "  --sklearn-color-icon: #696969;\n",
       "\n",
       "  @media (prefers-color-scheme: dark) {\n",
       "    /* Redefinition of color scheme for dark theme */\n",
       "    --sklearn-color-text-on-default-background: var(--sg-text-color, var(--theme-code-foreground, var(--jp-content-font-color1, white)));\n",
       "    --sklearn-color-background: var(--sg-background-color, var(--theme-background, var(--jp-layout-color0, #111)));\n",
       "    --sklearn-color-border-box: var(--sg-text-color, var(--theme-code-foreground, var(--jp-content-font-color1, white)));\n",
       "    --sklearn-color-icon: #878787;\n",
       "  }\n",
       "}\n",
       "\n",
       "#sk-container-id-1 {\n",
       "  color: var(--sklearn-color-text);\n",
       "}\n",
       "\n",
       "#sk-container-id-1 pre {\n",
       "  padding: 0;\n",
       "}\n",
       "\n",
       "#sk-container-id-1 input.sk-hidden--visually {\n",
       "  border: 0;\n",
       "  clip: rect(1px 1px 1px 1px);\n",
       "  clip: rect(1px, 1px, 1px, 1px);\n",
       "  height: 1px;\n",
       "  margin: -1px;\n",
       "  overflow: hidden;\n",
       "  padding: 0;\n",
       "  position: absolute;\n",
       "  width: 1px;\n",
       "}\n",
       "\n",
       "#sk-container-id-1 div.sk-dashed-wrapped {\n",
       "  border: 1px dashed var(--sklearn-color-line);\n",
       "  margin: 0 0.4em 0.5em 0.4em;\n",
       "  box-sizing: border-box;\n",
       "  padding-bottom: 0.4em;\n",
       "  background-color: var(--sklearn-color-background);\n",
       "}\n",
       "\n",
       "#sk-container-id-1 div.sk-container {\n",
       "  /* jupyter's `normalize.less` sets `[hidden] { display: none; }`\n",
       "     but bootstrap.min.css set `[hidden] { display: none !important; }`\n",
       "     so we also need the `!important` here to be able to override the\n",
       "     default hidden behavior on the sphinx rendered scikit-learn.org.\n",
       "     See: https://github.com/scikit-learn/scikit-learn/issues/21755 */\n",
       "  display: inline-block !important;\n",
       "  position: relative;\n",
       "}\n",
       "\n",
       "#sk-container-id-1 div.sk-text-repr-fallback {\n",
       "  display: none;\n",
       "}\n",
       "\n",
       "div.sk-parallel-item,\n",
       "div.sk-serial,\n",
       "div.sk-item {\n",
       "  /* draw centered vertical line to link estimators */\n",
       "  background-image: linear-gradient(var(--sklearn-color-text-on-default-background), var(--sklearn-color-text-on-default-background));\n",
       "  background-size: 2px 100%;\n",
       "  background-repeat: no-repeat;\n",
       "  background-position: center center;\n",
       "}\n",
       "\n",
       "/* Parallel-specific style estimator block */\n",
       "\n",
       "#sk-container-id-1 div.sk-parallel-item::after {\n",
       "  content: \"\";\n",
       "  width: 100%;\n",
       "  border-bottom: 2px solid var(--sklearn-color-text-on-default-background);\n",
       "  flex-grow: 1;\n",
       "}\n",
       "\n",
       "#sk-container-id-1 div.sk-parallel {\n",
       "  display: flex;\n",
       "  align-items: stretch;\n",
       "  justify-content: center;\n",
       "  background-color: var(--sklearn-color-background);\n",
       "  position: relative;\n",
       "}\n",
       "\n",
       "#sk-container-id-1 div.sk-parallel-item {\n",
       "  display: flex;\n",
       "  flex-direction: column;\n",
       "}\n",
       "\n",
       "#sk-container-id-1 div.sk-parallel-item:first-child::after {\n",
       "  align-self: flex-end;\n",
       "  width: 50%;\n",
       "}\n",
       "\n",
       "#sk-container-id-1 div.sk-parallel-item:last-child::after {\n",
       "  align-self: flex-start;\n",
       "  width: 50%;\n",
       "}\n",
       "\n",
       "#sk-container-id-1 div.sk-parallel-item:only-child::after {\n",
       "  width: 0;\n",
       "}\n",
       "\n",
       "/* Serial-specific style estimator block */\n",
       "\n",
       "#sk-container-id-1 div.sk-serial {\n",
       "  display: flex;\n",
       "  flex-direction: column;\n",
       "  align-items: center;\n",
       "  background-color: var(--sklearn-color-background);\n",
       "  padding-right: 1em;\n",
       "  padding-left: 1em;\n",
       "}\n",
       "\n",
       "\n",
       "/* Toggleable style: style used for estimator/Pipeline/ColumnTransformer box that is\n",
       "clickable and can be expanded/collapsed.\n",
       "- Pipeline and ColumnTransformer use this feature and define the default style\n",
       "- Estimators will overwrite some part of the style using the `sk-estimator` class\n",
       "*/\n",
       "\n",
       "/* Pipeline and ColumnTransformer style (default) */\n",
       "\n",
       "#sk-container-id-1 div.sk-toggleable {\n",
       "  /* Default theme specific background. It is overwritten whether we have a\n",
       "  specific estimator or a Pipeline/ColumnTransformer */\n",
       "  background-color: var(--sklearn-color-background);\n",
       "}\n",
       "\n",
       "/* Toggleable label */\n",
       "#sk-container-id-1 label.sk-toggleable__label {\n",
       "  cursor: pointer;\n",
       "  display: block;\n",
       "  width: 100%;\n",
       "  margin-bottom: 0;\n",
       "  padding: 0.5em;\n",
       "  box-sizing: border-box;\n",
       "  text-align: center;\n",
       "}\n",
       "\n",
       "#sk-container-id-1 label.sk-toggleable__label-arrow:before {\n",
       "  /* Arrow on the left of the label */\n",
       "  content: \"▸\";\n",
       "  float: left;\n",
       "  margin-right: 0.25em;\n",
       "  color: var(--sklearn-color-icon);\n",
       "}\n",
       "\n",
       "#sk-container-id-1 label.sk-toggleable__label-arrow:hover:before {\n",
       "  color: var(--sklearn-color-text);\n",
       "}\n",
       "\n",
       "/* Toggleable content - dropdown */\n",
       "\n",
       "#sk-container-id-1 div.sk-toggleable__content {\n",
       "  max-height: 0;\n",
       "  max-width: 0;\n",
       "  overflow: hidden;\n",
       "  text-align: left;\n",
       "  /* unfitted */\n",
       "  background-color: var(--sklearn-color-unfitted-level-0);\n",
       "}\n",
       "\n",
       "#sk-container-id-1 div.sk-toggleable__content.fitted {\n",
       "  /* fitted */\n",
       "  background-color: var(--sklearn-color-fitted-level-0);\n",
       "}\n",
       "\n",
       "#sk-container-id-1 div.sk-toggleable__content pre {\n",
       "  margin: 0.2em;\n",
       "  border-radius: 0.25em;\n",
       "  color: var(--sklearn-color-text);\n",
       "  /* unfitted */\n",
       "  background-color: var(--sklearn-color-unfitted-level-0);\n",
       "}\n",
       "\n",
       "#sk-container-id-1 div.sk-toggleable__content.fitted pre {\n",
       "  /* unfitted */\n",
       "  background-color: var(--sklearn-color-fitted-level-0);\n",
       "}\n",
       "\n",
       "#sk-container-id-1 input.sk-toggleable__control:checked~div.sk-toggleable__content {\n",
       "  /* Expand drop-down */\n",
       "  max-height: 200px;\n",
       "  max-width: 100%;\n",
       "  overflow: auto;\n",
       "}\n",
       "\n",
       "#sk-container-id-1 input.sk-toggleable__control:checked~label.sk-toggleable__label-arrow:before {\n",
       "  content: \"▾\";\n",
       "}\n",
       "\n",
       "/* Pipeline/ColumnTransformer-specific style */\n",
       "\n",
       "#sk-container-id-1 div.sk-label input.sk-toggleable__control:checked~label.sk-toggleable__label {\n",
       "  color: var(--sklearn-color-text);\n",
       "  background-color: var(--sklearn-color-unfitted-level-2);\n",
       "}\n",
       "\n",
       "#sk-container-id-1 div.sk-label.fitted input.sk-toggleable__control:checked~label.sk-toggleable__label {\n",
       "  background-color: var(--sklearn-color-fitted-level-2);\n",
       "}\n",
       "\n",
       "/* Estimator-specific style */\n",
       "\n",
       "/* Colorize estimator box */\n",
       "#sk-container-id-1 div.sk-estimator input.sk-toggleable__control:checked~label.sk-toggleable__label {\n",
       "  /* unfitted */\n",
       "  background-color: var(--sklearn-color-unfitted-level-2);\n",
       "}\n",
       "\n",
       "#sk-container-id-1 div.sk-estimator.fitted input.sk-toggleable__control:checked~label.sk-toggleable__label {\n",
       "  /* fitted */\n",
       "  background-color: var(--sklearn-color-fitted-level-2);\n",
       "}\n",
       "\n",
       "#sk-container-id-1 div.sk-label label.sk-toggleable__label,\n",
       "#sk-container-id-1 div.sk-label label {\n",
       "  /* The background is the default theme color */\n",
       "  color: var(--sklearn-color-text-on-default-background);\n",
       "}\n",
       "\n",
       "/* On hover, darken the color of the background */\n",
       "#sk-container-id-1 div.sk-label:hover label.sk-toggleable__label {\n",
       "  color: var(--sklearn-color-text);\n",
       "  background-color: var(--sklearn-color-unfitted-level-2);\n",
       "}\n",
       "\n",
       "/* Label box, darken color on hover, fitted */\n",
       "#sk-container-id-1 div.sk-label.fitted:hover label.sk-toggleable__label.fitted {\n",
       "  color: var(--sklearn-color-text);\n",
       "  background-color: var(--sklearn-color-fitted-level-2);\n",
       "}\n",
       "\n",
       "/* Estimator label */\n",
       "\n",
       "#sk-container-id-1 div.sk-label label {\n",
       "  font-family: monospace;\n",
       "  font-weight: bold;\n",
       "  display: inline-block;\n",
       "  line-height: 1.2em;\n",
       "}\n",
       "\n",
       "#sk-container-id-1 div.sk-label-container {\n",
       "  text-align: center;\n",
       "}\n",
       "\n",
       "/* Estimator-specific */\n",
       "#sk-container-id-1 div.sk-estimator {\n",
       "  font-family: monospace;\n",
       "  border: 1px dotted var(--sklearn-color-border-box);\n",
       "  border-radius: 0.25em;\n",
       "  box-sizing: border-box;\n",
       "  margin-bottom: 0.5em;\n",
       "  /* unfitted */\n",
       "  background-color: var(--sklearn-color-unfitted-level-0);\n",
       "}\n",
       "\n",
       "#sk-container-id-1 div.sk-estimator.fitted {\n",
       "  /* fitted */\n",
       "  background-color: var(--sklearn-color-fitted-level-0);\n",
       "}\n",
       "\n",
       "/* on hover */\n",
       "#sk-container-id-1 div.sk-estimator:hover {\n",
       "  /* unfitted */\n",
       "  background-color: var(--sklearn-color-unfitted-level-2);\n",
       "}\n",
       "\n",
       "#sk-container-id-1 div.sk-estimator.fitted:hover {\n",
       "  /* fitted */\n",
       "  background-color: var(--sklearn-color-fitted-level-2);\n",
       "}\n",
       "\n",
       "/* Specification for estimator info (e.g. \"i\" and \"?\") */\n",
       "\n",
       "/* Common style for \"i\" and \"?\" */\n",
       "\n",
       ".sk-estimator-doc-link,\n",
       "a:link.sk-estimator-doc-link,\n",
       "a:visited.sk-estimator-doc-link {\n",
       "  float: right;\n",
       "  font-size: smaller;\n",
       "  line-height: 1em;\n",
       "  font-family: monospace;\n",
       "  background-color: var(--sklearn-color-background);\n",
       "  border-radius: 1em;\n",
       "  height: 1em;\n",
       "  width: 1em;\n",
       "  text-decoration: none !important;\n",
       "  margin-left: 1ex;\n",
       "  /* unfitted */\n",
       "  border: var(--sklearn-color-unfitted-level-1) 1pt solid;\n",
       "  color: var(--sklearn-color-unfitted-level-1);\n",
       "}\n",
       "\n",
       ".sk-estimator-doc-link.fitted,\n",
       "a:link.sk-estimator-doc-link.fitted,\n",
       "a:visited.sk-estimator-doc-link.fitted {\n",
       "  /* fitted */\n",
       "  border: var(--sklearn-color-fitted-level-1) 1pt solid;\n",
       "  color: var(--sklearn-color-fitted-level-1);\n",
       "}\n",
       "\n",
       "/* On hover */\n",
       "div.sk-estimator:hover .sk-estimator-doc-link:hover,\n",
       ".sk-estimator-doc-link:hover,\n",
       "div.sk-label-container:hover .sk-estimator-doc-link:hover,\n",
       ".sk-estimator-doc-link:hover {\n",
       "  /* unfitted */\n",
       "  background-color: var(--sklearn-color-unfitted-level-3);\n",
       "  color: var(--sklearn-color-background);\n",
       "  text-decoration: none;\n",
       "}\n",
       "\n",
       "div.sk-estimator.fitted:hover .sk-estimator-doc-link.fitted:hover,\n",
       ".sk-estimator-doc-link.fitted:hover,\n",
       "div.sk-label-container:hover .sk-estimator-doc-link.fitted:hover,\n",
       ".sk-estimator-doc-link.fitted:hover {\n",
       "  /* fitted */\n",
       "  background-color: var(--sklearn-color-fitted-level-3);\n",
       "  color: var(--sklearn-color-background);\n",
       "  text-decoration: none;\n",
       "}\n",
       "\n",
       "/* Span, style for the box shown on hovering the info icon */\n",
       ".sk-estimator-doc-link span {\n",
       "  display: none;\n",
       "  z-index: 9999;\n",
       "  position: relative;\n",
       "  font-weight: normal;\n",
       "  right: .2ex;\n",
       "  padding: .5ex;\n",
       "  margin: .5ex;\n",
       "  width: min-content;\n",
       "  min-width: 20ex;\n",
       "  max-width: 50ex;\n",
       "  color: var(--sklearn-color-text);\n",
       "  box-shadow: 2pt 2pt 4pt #999;\n",
       "  /* unfitted */\n",
       "  background: var(--sklearn-color-unfitted-level-0);\n",
       "  border: .5pt solid var(--sklearn-color-unfitted-level-3);\n",
       "}\n",
       "\n",
       ".sk-estimator-doc-link.fitted span {\n",
       "  /* fitted */\n",
       "  background: var(--sklearn-color-fitted-level-0);\n",
       "  border: var(--sklearn-color-fitted-level-3);\n",
       "}\n",
       "\n",
       ".sk-estimator-doc-link:hover span {\n",
       "  display: block;\n",
       "}\n",
       "\n",
       "/* \"?\"-specific style due to the `<a>` HTML tag */\n",
       "\n",
       "#sk-container-id-1 a.estimator_doc_link {\n",
       "  float: right;\n",
       "  font-size: 1rem;\n",
       "  line-height: 1em;\n",
       "  font-family: monospace;\n",
       "  background-color: var(--sklearn-color-background);\n",
       "  border-radius: 1rem;\n",
       "  height: 1rem;\n",
       "  width: 1rem;\n",
       "  text-decoration: none;\n",
       "  /* unfitted */\n",
       "  color: var(--sklearn-color-unfitted-level-1);\n",
       "  border: var(--sklearn-color-unfitted-level-1) 1pt solid;\n",
       "}\n",
       "\n",
       "#sk-container-id-1 a.estimator_doc_link.fitted {\n",
       "  /* fitted */\n",
       "  border: var(--sklearn-color-fitted-level-1) 1pt solid;\n",
       "  color: var(--sklearn-color-fitted-level-1);\n",
       "}\n",
       "\n",
       "/* On hover */\n",
       "#sk-container-id-1 a.estimator_doc_link:hover {\n",
       "  /* unfitted */\n",
       "  background-color: var(--sklearn-color-unfitted-level-3);\n",
       "  color: var(--sklearn-color-background);\n",
       "  text-decoration: none;\n",
       "}\n",
       "\n",
       "#sk-container-id-1 a.estimator_doc_link.fitted:hover {\n",
       "  /* fitted */\n",
       "  background-color: var(--sklearn-color-fitted-level-3);\n",
       "}\n",
       "</style><div id=\"sk-container-id-1\" class=\"sk-top-container\"><div class=\"sk-text-repr-fallback\"><pre>KNeighborsRegressor(n_neighbors=3)</pre><b>In a Jupyter environment, please rerun this cell to show the HTML representation or trust the notebook. <br />On GitHub, the HTML representation is unable to render, please try loading this page with nbviewer.org.</b></div><div class=\"sk-container\" hidden><div class=\"sk-item\"><div class=\"sk-estimator fitted sk-toggleable\"><input class=\"sk-toggleable__control sk-hidden--visually\" id=\"sk-estimator-id-1\" type=\"checkbox\" checked><label for=\"sk-estimator-id-1\" class=\"sk-toggleable__label fitted sk-toggleable__label-arrow fitted\">&nbsp;&nbsp;KNeighborsRegressor<a class=\"sk-estimator-doc-link fitted\" rel=\"noreferrer\" target=\"_blank\" href=\"https://scikit-learn.org/1.4/modules/generated/sklearn.neighbors.KNeighborsRegressor.html\">?<span>Documentation for KNeighborsRegressor</span></a><span class=\"sk-estimator-doc-link fitted\">i<span>Fitted</span></span></label><div class=\"sk-toggleable__content fitted\"><pre>KNeighborsRegressor(n_neighbors=3)</pre></div> </div></div></div></div>"
      ],
      "text/plain": [
       "KNeighborsRegressor(n_neighbors=3)"
      ]
     },
     "execution_count": 34,
     "metadata": {},
     "output_type": "execute_result"
    }
   ],
   "source": [
    "knn_k=KNeighborsRegressor(n_neighbors=best_k)\n",
    "knn_k.fit(train_m.drop(columns='sales'), train_m['sales'])\n",
    "#pred=knn_k.predict(test_m.drop(columns='sales'))"
   ]
  },
  {
   "cell_type": "code",
   "execution_count": 31,
   "id": "a5f421eb-767b-43c9-9826-05dd12ee4575",
   "metadata": {},
   "outputs": [
    {
     "data": {
      "text/html": [
       "<div>\n",
       "<style scoped>\n",
       "    .dataframe tbody tr th:only-of-type {\n",
       "        vertical-align: middle;\n",
       "    }\n",
       "\n",
       "    .dataframe tbody tr th {\n",
       "        vertical-align: top;\n",
       "    }\n",
       "\n",
       "    .dataframe thead th {\n",
       "        text-align: right;\n",
       "    }\n",
       "</style>\n",
       "<table border=\"1\" class=\"dataframe\">\n",
       "  <thead>\n",
       "    <tr style=\"text-align: right;\">\n",
       "      <th></th>\n",
       "      <th>ROM</th>\n",
       "      <th>RAM</th>\n",
       "      <th>num_rear_camera</th>\n",
       "      <th>num_front_camera</th>\n",
       "      <th>battery_capacity</th>\n",
       "      <th>ratings</th>\n",
       "      <th>num_of_ratings</th>\n",
       "      <th>sales_price</th>\n",
       "      <th>discount_percent</th>\n",
       "      <th>sales</th>\n",
       "      <th>screen_size_Large</th>\n",
       "      <th>screen_size_Medium</th>\n",
       "      <th>screen_size_Small</th>\n",
       "      <th>screen_size_Very Large</th>\n",
       "      <th>screen_size_Very Small</th>\n",
       "    </tr>\n",
       "  </thead>\n",
       "  <tbody>\n",
       "    <tr>\n",
       "      <th>410</th>\n",
       "      <td>32</td>\n",
       "      <td>3</td>\n",
       "      <td>2</td>\n",
       "      <td>1</td>\n",
       "      <td>4000</td>\n",
       "      <td>4.3</td>\n",
       "      <td>1870</td>\n",
       "      <td>10449</td>\n",
       "      <td>0.05</td>\n",
       "      <td>1.95</td>\n",
       "      <td>0</td>\n",
       "      <td>0</td>\n",
       "      <td>1</td>\n",
       "      <td>0</td>\n",
       "      <td>0</td>\n",
       "    </tr>\n",
       "  </tbody>\n",
       "</table>\n",
       "</div>"
      ],
      "text/plain": [
       "     ROM  RAM  num_rear_camera  num_front_camera  battery_capacity  ratings  \\\n",
       "410   32    3                2                 1              4000      4.3   \n",
       "\n",
       "     num_of_ratings  sales_price  discount_percent  sales  screen_size_Large  \\\n",
       "410            1870        10449              0.05   1.95                  0   \n",
       "\n",
       "     screen_size_Medium  screen_size_Small  screen_size_Very Large  \\\n",
       "410                   0                  1                       0   \n",
       "\n",
       "     screen_size_Very Small  \n",
       "410                       0  "
      ]
     },
     "execution_count": 31,
     "metadata": {},
     "output_type": "execute_result"
    }
   ],
   "source": [
    "q3_2=train.head(1).copy()\n",
    "q3_2"
   ]
  },
  {
   "cell_type": "code",
   "execution_count": 32,
   "id": "ed5047d3-203a-41c2-8647-372f1e2456c4",
   "metadata": {},
   "outputs": [],
   "source": [
    "q3_2['ROM'] = 256\n",
    "q3_2['RAM'] = 6\n",
    "q3_2['num_rear_camera']=4\n",
    "q3_2['num_front_camera'] = 1\n",
    "q3_2['battery_capacity'] = 4000\n",
    "q3_2['ratings']=4.3\n",
    "q3_2['num_of_ratings'] = 25000\n",
    "q3_2['sales_price'] = 85000\n",
    "q3_2['discount_percent'] = 0.05\n",
    "q3_2['screen_size_Large'] = 1\n",
    "q3_2['screen_size_Medium'] = 0\n",
    "q3_2['screen_size_Small'] = 0\n",
    "q3_2['screen_size_Very Large'] = 0\n",
    "q3_2['screen_size_Very Small'] = 0"
   ]
  },
  {
   "cell_type": "code",
   "execution_count": 33,
   "id": "a7a098cb-99e8-4a58-a59b-97947dbe0acf",
   "metadata": {},
   "outputs": [],
   "source": [
    "test_vm=pd.DataFrame(minmax.transform(q3_2), columns=q3.columns)"
   ]
  },
  {
   "cell_type": "code",
   "execution_count": 35,
   "id": "891cd429-c12c-445b-ba00-bf5c983cbc10",
   "metadata": {},
   "outputs": [],
   "source": [
    "test_vm['sales']=knn_k.predict(test_vm.drop(columns='sales'))"
   ]
  },
  {
   "cell_type": "code",
   "execution_count": 37,
   "id": "79dacfff-e6c8-4de8-8b70-786bcedadd19",
   "metadata": {},
   "outputs": [
    {
     "data": {
      "text/plain": [
       "0    0.653333\n",
       "Name: sales, dtype: float64"
      ]
     },
     "execution_count": 37,
     "metadata": {},
     "output_type": "execute_result"
    }
   ],
   "source": [
    "pd.DataFrame(minmax.inverse_transform(test_vm), columns=q3.columns)['sales']"
   ]
  },
  {
   "cell_type": "code",
   "execution_count": null,
   "id": "4d07334d-2552-42c2-b842-07fcacccc4a5",
   "metadata": {},
   "outputs": [],
   "source": []
  }
 ],
 "metadata": {
  "kernelspec": {
   "display_name": "Python 3 (ipykernel)",
   "language": "python",
   "name": "python3"
  },
  "language_info": {
   "codemirror_mode": {
    "name": "ipython",
    "version": 3
   },
   "file_extension": ".py",
   "mimetype": "text/x-python",
   "name": "python",
   "nbconvert_exporter": "python",
   "pygments_lexer": "ipython3",
   "version": "3.12.4"
  }
 },
 "nbformat": 4,
 "nbformat_minor": 5
}
