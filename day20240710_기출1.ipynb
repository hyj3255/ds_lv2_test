{
 "cells": [
  {
   "cell_type": "code",
   "execution_count": 3,
   "id": "ade8ad4f-43f3-4ef8-b57e-7b3569f14fe6",
   "metadata": {},
   "outputs": [],
   "source": [
    "import pandas as pd\n",
    "import numpy as np\n",
    "\n",
    "from sklearn.ensemble import RandomForestRegressor"
   ]
  },
  {
   "cell_type": "code",
   "execution_count": 4,
   "id": "2c71a48f-fa45-45e1-a345-4a87dcc80a28",
   "metadata": {},
   "outputs": [
    {
     "name": "stdout",
     "output_type": "stream",
     "text": [
      "<class 'pandas.core.frame.DataFrame'>\n",
      "RangeIndex: 666 entries, 0 to 665\n",
      "Data columns (total 11 columns):\n",
      " #   Column            Non-Null Count  Dtype  \n",
      "---  ------            --------------  -----  \n",
      " 0   Product_Name      666 non-null    object \n",
      " 1   Stars             666 non-null    float64\n",
      " 2   Ratings           666 non-null    int64  \n",
      " 3   Reviews           666 non-null    int64  \n",
      " 4   current_price     666 non-null    int64  \n",
      " 5   MRP               666 non-null    int64  \n",
      " 6   channel           666 non-null    object \n",
      " 7   Operating_system  666 non-null    object \n",
      " 8   Picture_quality   666 non-null    object \n",
      " 9   Speaker           666 non-null    object \n",
      " 10  Frequency         666 non-null    object \n",
      "dtypes: float64(1), int64(4), object(6)\n",
      "memory usage: 57.4+ KB\n"
     ]
    }
   ],
   "source": [
    "df=pd.read_csv('./test/TV.csv')\n",
    "df.info()"
   ]
  },
  {
   "cell_type": "markdown",
   "id": "5987903e-79e1-441a-a656-98a7407a00b9",
   "metadata": {},
   "source": [
    "# 문제 풀기: ~ 4:10 "
   ]
  },
  {
   "cell_type": "markdown",
   "id": "f74062a1-c879-43e2-b4fc-6c89f58d3455",
   "metadata": {},
   "source": [
    "# Q1"
   ]
  },
  {
   "cell_type": "code",
   "execution_count": 5,
   "id": "6df90f74-e9e7-48b4-93c9-8b51bb092b66",
   "metadata": {},
   "outputs": [
    {
     "data": {
      "text/plain": [
       "Frequency\n",
       "60 Hz Refresh Rate                                                                                     423\n",
       "50 Hz Refresh Rate                                                                                      53\n",
       "100 Hz Refresh Rate                                                                                     25\n",
       "120 Hz Refresh Rate                                                                                     23\n",
       "200 Hz Refresh Rate                                                                                     14\n",
       "3 x HDMI | 2 x USB                                                                                      13\n",
       "A+ Grade                                                                                                12\n",
       "A+                                                                                                      12\n",
       "1 Year Warranty                                                                                          6\n",
       "A+ Grade Panel                                                                                           5\n",
       "1 Year Warranty on Product                                                                               5\n",
       "2 x HDMI | 1 x USB                                                                                       5\n",
       "1 Year From Date of Purchase                                                                             4\n",
       "1 YEAR                                                                                                   4\n",
       "IPS                                                                                                      3\n",
       "1 Year LG India Comprehensive Warranty and additional 1 year Warranty is applicable on panel/module      3\n",
       "1 Year LG India Comprehensive Warranty and Additional 1 Year Warranty is Applicable on Panel/Module      3\n",
       "A+ Panel                                                                                                 3\n",
       "1 Year Manufacturer Warranty                                                                             3\n",
       "1 Year Comprehensive Warranty and 1 Year Additional Warranty on Panel                                    2\n",
       "2 x HDMI | 2 x USB                                                                                       2\n",
       "800 Hz Refresh Rate                                                                                      2\n",
       "4 x HDMI | 3 x USB                                                                                       2\n",
       "3 x HDMI | 1 x USB                                                                                       2\n",
       "LED                                                                                                      2\n",
       "A+ Grade Premium Dot Free Panel                                                                          2\n",
       "1 year sony Domestic Warranty                                                                            1\n",
       "A Grade Panel                                                                                            1\n",
       "1 Year Comprehensive Warranty                                                                            1\n",
       "COMES WITH  1YR  WARRANTY                                                                                1\n",
       "1 + 1 Year Warranty                                                                                      1\n",
       "Thin Bezel Design                                                                                        1\n",
       "1 Year Company Warranty                                                                                  1\n",
       "A Grade                                                                                                  1\n",
       "1 Year Standard Warranty Provided By The Manufacturer From Date Of Purchase                              1\n",
       "1 + 2 Year                                                                                               1\n",
       "2 Years                                                                                                  1\n",
       "LED Panel                                                                                                1\n",
       "1 x HDMI | 1 x USB                                                                                       1\n",
       "Zero Dots LED Panel                                                                                      1\n",
       "1 Year Maser India Warranty                                                                              1\n",
       "1 Year Standard Warranty and 1 Year Warranty on Panel from Samsung                                       1\n",
       "2 YEAR                                                                                                   1\n",
       "1 Year Warranty on Product + 1 Year Additional on Panel                                                  1\n",
       "A+ Grade IPS                                                                                             1\n",
       "1 Year on product                                                                                        1\n",
       "1 Year Comprehensive Warranty on Product and Additional 1 Year on Panel                                  1\n",
       "Zero Dot A+ Panel                                                                                        1\n",
       "VA                                                                                                       1\n",
       "2 Year Comprehensive Domestic Warranty                                                                   1\n",
       "A+Grade                                                                                                  1\n",
       "3 x HDMI | 3 x USB                                                                                       1\n",
       "1 Year Warranty on Product and Additional 1 Year for Panel                                               1\n",
       "3 Years Warranty on Product                                                                              1\n",
       "1 Year Candes Domestic Warranty                                                                          1\n",
       "1 Year Comprehensive Warranty and 1 Year Additional on Panel                                             1\n",
       "1 Year Manufaturer Warranty                                                                              1\n",
       "1 year comprehensive warranty                                                                            1\n",
       "3 Years Warranty                                                                                         1\n",
       "Name: count, dtype: int64"
      ]
     },
     "execution_count": 5,
     "metadata": {},
     "output_type": "execute_result"
    }
   ],
   "source": [
    "df.Frequency.value_counts()"
   ]
  },
  {
   "cell_type": "code",
   "execution_count": 11,
   "id": "f7a338a3-1c2b-4358-9594-a8ad29b72e94",
   "metadata": {},
   "outputs": [],
   "source": [
    "# df.columns"
   ]
  },
  {
   "cell_type": "code",
   "execution_count": 7,
   "id": "194d91c4-44b9-4532-86ff-99b36042bdf4",
   "metadata": {},
   "outputs": [],
   "source": [
    "var_list1=['Frequency','Picture_quality', 'Speaker']"
   ]
  },
  {
   "cell_type": "code",
   "execution_count": 10,
   "id": "e635ce4c-0ffe-4152-a164-a7f5a6d565f3",
   "metadata": {},
   "outputs": [
    {
     "data": {
      "text/plain": [
       "510"
      ]
     },
     "execution_count": 10,
     "metadata": {},
     "output_type": "execute_result"
    }
   ],
   "source": [
    "df[var_list1].apply(lambda x: x.str.contains('60 Hz')).any(axis=1).sum()"
   ]
  },
  {
   "cell_type": "markdown",
   "id": "1f9bb180-9226-477e-9e1f-218a5ee38f44",
   "metadata": {},
   "source": [
    "# Q2"
   ]
  },
  {
   "cell_type": "code",
   "execution_count": 12,
   "id": "96d84390-bbbb-4bc8-bb35-bd652353d573",
   "metadata": {},
   "outputs": [
    {
     "data": {
      "text/plain": [
       "Index(['Product_Name', 'Stars', 'Ratings', 'Reviews', 'current_price', 'MRP',\n",
       "       'channel', 'Operating_system', 'Picture_quality', 'Speaker',\n",
       "       'Frequency'],\n",
       "      dtype='object')"
      ]
     },
     "execution_count": 12,
     "metadata": {},
     "output_type": "execute_result"
    }
   ],
   "source": [
    "df.columns"
   ]
  },
  {
   "cell_type": "code",
   "execution_count": 13,
   "id": "53dc04b7-4f93-482e-9e46-097ac4ae0650",
   "metadata": {},
   "outputs": [],
   "source": [
    "var_list2=['Operating_system', 'channel', 'Picture_quality']"
   ]
  },
  {
   "cell_type": "code",
   "execution_count": 15,
   "id": "80be3957-26fc-4a3f-8b52-d16c5197b7fa",
   "metadata": {},
   "outputs": [],
   "source": [
    "q2_8k=df[var_list2].apply(lambda x: x.str.contains('8K')).any(axis=1)\n",
    "q2_4k=df[var_list2].apply(lambda x: x.str.contains('4K')).any(axis=1)"
   ]
  },
  {
   "cell_type": "code",
   "execution_count": 17,
   "id": "1158c970-ee8d-423f-82e9-1bf3b3d3a356",
   "metadata": {},
   "outputs": [
    {
     "data": {
      "text/plain": [
       "0.38"
      ]
     },
     "execution_count": 17,
     "metadata": {},
     "output_type": "execute_result"
    }
   ],
   "source": [
    "round(abs(df[q2_8k]['Stars'].mean() - df[q2_4k]['Stars'].mean()),2)"
   ]
  },
  {
   "cell_type": "markdown",
   "id": "36416f65-067d-4520-8cdb-3f24c1dc0a36",
   "metadata": {},
   "source": [
    "# Q3"
   ]
  },
  {
   "cell_type": "code",
   "execution_count": 20,
   "id": "b5e2945f-5cef-4999-890f-2dafb508ff92",
   "metadata": {},
   "outputs": [
    {
     "data": {
      "text/plain": [
       "array(['HD Ready 1366 x 768 Pixels', 'Netflix|Disney+Hotstar|Youtube',\n",
       "       'Netflix|Prime Video|Disney+Hotstar|Youtube',\n",
       "       'HD Ready 1366 X 768 Pixels', 'Netflix|Prime Video|Youtube',\n",
       "       'Youtube', 'Prime Video|Disney+Hotstar|Youtube',\n",
       "       'Prime Video|Youtube', 'Netflix|Youtube',\n",
       "       'HD Ready 1366 x 786 Pixels', 'Disney+Hotstar|Youtube',\n",
       "       'HD Ready 1366*768 Pixels', 'Ultra HD (4K) 3840 x 2160 Pixels',\n",
       "       'Netflix|Prime Video|Apple TV|Disney+Hotstar|Youtube',\n",
       "       'HD Ready 720p Pixels', 'Ultra HD (4K) ?3840 x 2160 Pixels',\n",
       "       'Operating System: Linux', 'Full HD 1920 x 1080 Pixels',\n",
       "       'Operating System: Android', 'Ultra HD (4K) 3840*2160 Pixels',\n",
       "       'Operating System: WebOS', 'Operating System: Tizen',\n",
       "       'Ultra HD (4K) 3840 x 2160 - Ultra HD Pixels',\n",
       "       'Ultra HD (4K) 4K QLED (3840 x 2160) Pixels', 'Prime Video',\n",
       "       'Ultra HD (4K) 3840 * 2160 Pixels', 'HD Ready 1366X768P Pixels',\n",
       "       'Full HD 1980 x 1080 Pixels', 'Operating System: Android Based',\n",
       "       'Full HD 1366 x 768 Pixels', 'HD Ready 1920 x 1080 - FHD Pixels',\n",
       "       'HD Ready 1920 x 1080 Pixels', 'HD Ready ?1366*768 Pixels',\n",
       "       'HD Ready 1366X768 Pixels', 'Ultra HD (4K) 1920 x 1080 Pixels',\n",
       "       'Operating System: HomeOS',\n",
       "       'Ultra HD (4K) 3840 x 2160 pixels Pixels'], dtype=object)"
      ]
     },
     "execution_count": 20,
     "metadata": {},
     "output_type": "execute_result"
    }
   ],
   "source": [
    "df.channel.unique()"
   ]
  },
  {
   "cell_type": "code",
   "execution_count": 18,
   "id": "e0e592dd-c569-406d-962f-91139c4d3822",
   "metadata": {},
   "outputs": [],
   "source": [
    "q3=df.copy()\n",
    "q3=q3[~q3.channel.str.contains('Pixel|Oper', regex=True)]"
   ]
  },
  {
   "cell_type": "code",
   "execution_count": 19,
   "id": "03893287-7308-4f12-80aa-629551f3ecee",
   "metadata": {},
   "outputs": [
    {
     "data": {
      "text/plain": [
       "(666, 548)"
      ]
     },
     "execution_count": 19,
     "metadata": {},
     "output_type": "execute_result"
    }
   ],
   "source": [
    "len(df), len(q3)"
   ]
  },
  {
   "cell_type": "code",
   "execution_count": 21,
   "id": "0f9620e2-7f4a-4162-8e4d-e420109abb0a",
   "metadata": {},
   "outputs": [],
   "source": [
    "q3['후기작성비율']=q3['Reviews']/q3['Ratings']\n",
    "q3['공장출고가']=q3['MRP'].copy()\n",
    "q3['할인율']=q3['current_price'] / q3['공장출고가']\n",
    "q3['Netflix_yn']=q3.channel.str.contains('Netflix') + 0\n",
    "q3['Prime_Video_yn']=q3.channel.str.contains('Prime Video') + 0\n",
    "q3['고해상도여부']=q3.Picture_quality.str.contains('4K|8K', regex=True) + 0"
   ]
  },
  {
   "cell_type": "code",
   "execution_count": 22,
   "id": "d9ea3bb8-8367-4ee2-bc18-dd78b9370821",
   "metadata": {},
   "outputs": [
    {
     "data": {
      "text/plain": [
       "1      0\n",
       "2      0\n",
       "3      0\n",
       "4      0\n",
       "5      0\n",
       "      ..\n",
       "655    0\n",
       "656    1\n",
       "657    0\n",
       "662    1\n",
       "664    0\n",
       "Name: Picture_quality, Length: 548, dtype: int32"
      ]
     },
     "execution_count": 22,
     "metadata": {},
     "output_type": "execute_result"
    }
   ],
   "source": [
    "# q3.Picture_quality.str.contains('4K|8K') + 0"
   ]
  },
  {
   "cell_type": "code",
   "execution_count": 25,
   "id": "38fcee37-0373-4541-8b2b-9afdf548ab0c",
   "metadata": {},
   "outputs": [],
   "source": [
    "var_list3=q3.columns[-6:]"
   ]
  },
  {
   "cell_type": "code",
   "execution_count": 27,
   "id": "5c5a7290-8b18-4902-a448-857d833de64c",
   "metadata": {},
   "outputs": [
    {
     "data": {
      "text/plain": [
       "후기작성비율            351\n",
       "공장출고가               0\n",
       "할인율                 0\n",
       "Netflix_yn          0\n",
       "Prime_Video_yn      0\n",
       "고해상도여부              0\n",
       "dtype: int64"
      ]
     },
     "execution_count": 27,
     "metadata": {},
     "output_type": "execute_result"
    }
   ],
   "source": [
    "q3[var_list3].isna().sum()"
   ]
  },
  {
   "cell_type": "code",
   "execution_count": 28,
   "id": "c419cab2-5764-4d13-9d3c-4bb09e28d3ce",
   "metadata": {},
   "outputs": [],
   "source": [
    "q3_f=q3.dropna(subset=var_list3)"
   ]
  },
  {
   "cell_type": "code",
   "execution_count": 29,
   "id": "98c97de6-effa-4b37-a614-690ff7dba0c5",
   "metadata": {},
   "outputs": [
    {
     "data": {
      "text/plain": [
       "197"
      ]
     },
     "execution_count": 29,
     "metadata": {},
     "output_type": "execute_result"
    }
   ],
   "source": [
    "len(q3_f)"
   ]
  },
  {
   "cell_type": "code",
   "execution_count": 30,
   "id": "696919e2-c07e-4d53-a958-dcb47ebf2a31",
   "metadata": {},
   "outputs": [],
   "source": [
    "rf=RandomForestRegressor(random_state=123).fit(q3_f[var_list3], q3_f['Stars'])"
   ]
  },
  {
   "cell_type": "code",
   "execution_count": 33,
   "id": "a1cbbef0-a6f8-47f1-9a66-7f6f65ebadcd",
   "metadata": {},
   "outputs": [
    {
     "data": {
      "text/plain": [
       "'할인율'"
      ]
     },
     "execution_count": 33,
     "metadata": {},
     "output_type": "execute_result"
    }
   ],
   "source": [
    "pd.Series(rf.feature_importances_, index=var_list3).idxmax()"
   ]
  },
  {
   "cell_type": "code",
   "execution_count": null,
   "id": "8b627dbc-4518-4d03-ac88-c0dc51903f7c",
   "metadata": {},
   "outputs": [],
   "source": []
  }
 ],
 "metadata": {
  "kernelspec": {
   "display_name": "Python 3 (ipykernel)",
   "language": "python",
   "name": "python3"
  },
  "language_info": {
   "codemirror_mode": {
    "name": "ipython",
    "version": 3
   },
   "file_extension": ".py",
   "mimetype": "text/x-python",
   "name": "python",
   "nbconvert_exporter": "python",
   "pygments_lexer": "ipython3",
   "version": "3.12.4"
  }
 },
 "nbformat": 4,
 "nbformat_minor": 5
}
