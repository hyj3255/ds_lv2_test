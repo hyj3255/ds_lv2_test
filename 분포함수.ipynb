{
 "cells": [
  {
   "cell_type": "code",
   "execution_count": 2,
   "id": "f6f6661d-795e-48e4-ba55-beb1f6225d21",
   "metadata": {},
   "outputs": [],
   "source": [
    "import pandas as pd\n",
    "import numpy as np\n",
    "import scipy.stats as st"
   ]
  },
  {
   "cell_type": "markdown",
   "id": "0d90537e-a845-4c4c-8f0b-f71c073ed8f7",
   "metadata": {},
   "source": [
    "# 이항 분포"
   ]
  },
  {
   "cell_type": "markdown",
   "id": "0054c7ff-1ec4-4296-8dcd-792c5bea02f2",
   "metadata": {},
   "source": [
    "- 눈이 1부터 6까지 있는 주사위를 두 번 던질 때 나온느 수 중 3의 배수가 존재할 확률은 얼마인가?\n",
    "- 주사위를 5회 던졌다고 가정했을 때 주사위의 숫자 중 관심있는 숫자 5가 3회 이상 나타날 확률을 고르시오.(소수 넷째자리 이하는 버림)\n",
    "- 시험 시 scipy.stats 모듈 안에 있는 분포함수 활용"
   ]
  },
  {
   "cell_type": "code",
   "execution_count": 12,
   "id": "f40fde50-be15-4ac6-8159-d419d47c1a99",
   "metadata": {},
   "outputs": [
    {
     "data": {
      "text/plain": [
       "0.4444444444444444"
      ]
     },
     "execution_count": 12,
     "metadata": {},
     "output_type": "execute_result"
    }
   ],
   "source": [
    "# 확률질량함수\n",
    "\n",
    "st.binom(2, 1/3).pmf(1)"
   ]
  },
  {
   "cell_type": "code",
   "execution_count": 11,
   "id": "d78562de-4284-4b16-9831-8db68f2bc809",
   "metadata": {},
   "outputs": [
    {
     "data": {
      "text/plain": [
       "0.4444444444444444"
      ]
     },
     "execution_count": 11,
     "metadata": {},
     "output_type": "execute_result"
    }
   ],
   "source": [
    "st.binom.pmf(1, 2, 1/3)"
   ]
  },
  {
   "cell_type": "code",
   "execution_count": 4,
   "id": "c8bd0136-b590-495e-b722-0133a133f712",
   "metadata": {},
   "outputs": [
    {
     "data": {
      "text/plain": [
       "0.5555555555555556"
      ]
     },
     "execution_count": 4,
     "metadata": {},
     "output_type": "execute_result"
    }
   ],
   "source": [
    "st.binom.pmf(1, 2, 1/3) + st.binom.pmf(2, 2, 1/3)"
   ]
  },
  {
   "cell_type": "code",
   "execution_count": 8,
   "id": "e7665c9b-3d10-4e82-a557-8398691ae141",
   "metadata": {},
   "outputs": [
    {
     "data": {
      "text/plain": [
       "0.5555555555555556"
      ]
     },
     "execution_count": 8,
     "metadata": {},
     "output_type": "execute_result"
    }
   ],
   "source": [
    "1-st.binom.pmf(0, 2, 1/3)"
   ]
  },
  {
   "cell_type": "code",
   "execution_count": 13,
   "id": "979e08f7-f504-4351-937f-d6f868631a9c",
   "metadata": {},
   "outputs": [
    {
     "data": {
      "text/plain": [
       "0.5555555555555556"
      ]
     },
     "execution_count": 13,
     "metadata": {},
     "output_type": "execute_result"
    }
   ],
   "source": [
    "# 누적분포함수\n",
    "1-st.binom.cdf(0, 2, 1/3)"
   ]
  },
  {
   "cell_type": "code",
   "execution_count": 6,
   "id": "8b1df21f-0c23-4c25-8f4f-6ba6cfd381cd",
   "metadata": {},
   "outputs": [
    {
     "data": {
      "text/plain": [
       "0.035493827160493874"
      ]
     },
     "execution_count": 6,
     "metadata": {},
     "output_type": "execute_result"
    }
   ],
   "source": [
    "1-st.binom.cdf(2, 5, 1/6)"
   ]
  },
  {
   "cell_type": "code",
   "execution_count": 9,
   "id": "ee9b3fa0-c693-4131-afbc-dbc3e6c6d12c",
   "metadata": {},
   "outputs": [
    {
     "data": {
      "text/plain": [
       "0.03549382716049383"
      ]
     },
     "execution_count": 9,
     "metadata": {},
     "output_type": "execute_result"
    }
   ],
   "source": [
    "0.03215020576131687242798353909465 + 0.00321502057613168724279835390947 + 1.286008230452674897119341563786e-4"
   ]
  },
  {
   "cell_type": "code",
   "execution_count": null,
   "id": "a232ba0a-d1a9-470a-8df4-bd3ef12066f3",
   "metadata": {},
   "outputs": [],
   "source": []
  }
 ],
 "metadata": {
  "kernelspec": {
   "display_name": "Python 3 (ipykernel)",
   "language": "python",
   "name": "python3"
  },
  "language_info": {
   "codemirror_mode": {
    "name": "ipython",
    "version": 3
   },
   "file_extension": ".py",
   "mimetype": "text/x-python",
   "name": "python",
   "nbconvert_exporter": "python",
   "pygments_lexer": "ipython3",
   "version": "3.12.4"
  }
 },
 "nbformat": 4,
 "nbformat_minor": 5
}
